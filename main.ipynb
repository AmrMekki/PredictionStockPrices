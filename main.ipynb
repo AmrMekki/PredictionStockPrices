{
 "cells": [
  {
   "cell_type": "code",
   "execution_count": 28,
   "metadata": {},
   "outputs": [],
   "source": [
    "import numpy as np\n",
    "import matplotlib.pyplot as plt\n",
    "import pandas as pd\n",
    "import pandas_datareader as web\n",
    "import datetime as dt"
   ]
  },
  {
   "cell_type": "code",
   "execution_count": 29,
   "metadata": {},
   "outputs": [],
   "source": [
    "from sklearn.preprocessing import MinMaxScaler\n",
    "from tensorflow.keras.models import Sequential\n",
    "from tensorflow.keras.layers import Dense, Dropout, LSTM"
   ]
  },
  {
   "cell_type": "code",
   "execution_count": 30,
   "metadata": {},
   "outputs": [],
   "source": [
    "#load data\n",
    "company = 'FB'"
   ]
  },
  {
   "cell_type": "code",
   "execution_count": 31,
   "metadata": {},
   "outputs": [],
   "source": [
    "start = dt.datetime(2012,1,1)\n",
    "end = dt.datetime(2020,1,1)"
   ]
  },
  {
   "cell_type": "code",
   "execution_count": 32,
   "metadata": {},
   "outputs": [],
   "source": [
    "data = web.DataReader(company, 'yahoo', start, end)"
   ]
  },
  {
   "cell_type": "code",
   "execution_count": 43,
   "metadata": {},
   "outputs": [
    {
     "data": {
      "text/html": [
       "<div>\n",
       "<style scoped>\n",
       "    .dataframe tbody tr th:only-of-type {\n",
       "        vertical-align: middle;\n",
       "    }\n",
       "\n",
       "    .dataframe tbody tr th {\n",
       "        vertical-align: top;\n",
       "    }\n",
       "\n",
       "    .dataframe thead th {\n",
       "        text-align: right;\n",
       "    }\n",
       "</style>\n",
       "<table border=\"1\" class=\"dataframe\">\n",
       "  <thead>\n",
       "    <tr style=\"text-align: right;\">\n",
       "      <th></th>\n",
       "      <th>High</th>\n",
       "      <th>Low</th>\n",
       "      <th>Open</th>\n",
       "      <th>Close</th>\n",
       "      <th>Volume</th>\n",
       "      <th>Adj Close</th>\n",
       "    </tr>\n",
       "    <tr>\n",
       "      <th>Date</th>\n",
       "      <th></th>\n",
       "      <th></th>\n",
       "      <th></th>\n",
       "      <th></th>\n",
       "      <th></th>\n",
       "      <th></th>\n",
       "    </tr>\n",
       "  </thead>\n",
       "  <tbody>\n",
       "    <tr>\n",
       "      <th>2012-05-18</th>\n",
       "      <td>45.000000</td>\n",
       "      <td>38.000000</td>\n",
       "      <td>42.049999</td>\n",
       "      <td>38.230000</td>\n",
       "      <td>573576400</td>\n",
       "      <td>38.230000</td>\n",
       "    </tr>\n",
       "    <tr>\n",
       "      <th>2012-05-21</th>\n",
       "      <td>36.660000</td>\n",
       "      <td>33.000000</td>\n",
       "      <td>36.529999</td>\n",
       "      <td>34.029999</td>\n",
       "      <td>168192700</td>\n",
       "      <td>34.029999</td>\n",
       "    </tr>\n",
       "    <tr>\n",
       "      <th>2012-05-22</th>\n",
       "      <td>33.590000</td>\n",
       "      <td>30.940001</td>\n",
       "      <td>32.610001</td>\n",
       "      <td>31.000000</td>\n",
       "      <td>101786600</td>\n",
       "      <td>31.000000</td>\n",
       "    </tr>\n",
       "    <tr>\n",
       "      <th>2012-05-23</th>\n",
       "      <td>32.500000</td>\n",
       "      <td>31.360001</td>\n",
       "      <td>31.370001</td>\n",
       "      <td>32.000000</td>\n",
       "      <td>73600000</td>\n",
       "      <td>32.000000</td>\n",
       "    </tr>\n",
       "    <tr>\n",
       "      <th>2012-05-24</th>\n",
       "      <td>33.209999</td>\n",
       "      <td>31.770000</td>\n",
       "      <td>32.950001</td>\n",
       "      <td>33.029999</td>\n",
       "      <td>50237200</td>\n",
       "      <td>33.029999</td>\n",
       "    </tr>\n",
       "    <tr>\n",
       "      <th>...</th>\n",
       "      <td>...</td>\n",
       "      <td>...</td>\n",
       "      <td>...</td>\n",
       "      <td>...</td>\n",
       "      <td>...</td>\n",
       "      <td>...</td>\n",
       "    </tr>\n",
       "    <tr>\n",
       "      <th>2019-12-24</th>\n",
       "      <td>206.789993</td>\n",
       "      <td>205.000000</td>\n",
       "      <td>206.300003</td>\n",
       "      <td>205.119995</td>\n",
       "      <td>6046300</td>\n",
       "      <td>205.119995</td>\n",
       "    </tr>\n",
       "    <tr>\n",
       "      <th>2019-12-26</th>\n",
       "      <td>207.820007</td>\n",
       "      <td>205.309998</td>\n",
       "      <td>205.570007</td>\n",
       "      <td>207.789993</td>\n",
       "      <td>9350700</td>\n",
       "      <td>207.789993</td>\n",
       "    </tr>\n",
       "    <tr>\n",
       "      <th>2019-12-27</th>\n",
       "      <td>208.929993</td>\n",
       "      <td>206.589996</td>\n",
       "      <td>208.669998</td>\n",
       "      <td>208.100006</td>\n",
       "      <td>10284200</td>\n",
       "      <td>208.100006</td>\n",
       "    </tr>\n",
       "    <tr>\n",
       "      <th>2019-12-30</th>\n",
       "      <td>207.899994</td>\n",
       "      <td>203.899994</td>\n",
       "      <td>207.860001</td>\n",
       "      <td>204.410004</td>\n",
       "      <td>10524300</td>\n",
       "      <td>204.410004</td>\n",
       "    </tr>\n",
       "    <tr>\n",
       "      <th>2019-12-31</th>\n",
       "      <td>205.559998</td>\n",
       "      <td>203.600006</td>\n",
       "      <td>204.000000</td>\n",
       "      <td>205.250000</td>\n",
       "      <td>8953500</td>\n",
       "      <td>205.250000</td>\n",
       "    </tr>\n",
       "  </tbody>\n",
       "</table>\n",
       "<p>1917 rows × 6 columns</p>\n",
       "</div>"
      ],
      "text/plain": [
       "                  High         Low        Open       Close     Volume  \\\n",
       "Date                                                                    \n",
       "2012-05-18   45.000000   38.000000   42.049999   38.230000  573576400   \n",
       "2012-05-21   36.660000   33.000000   36.529999   34.029999  168192700   \n",
       "2012-05-22   33.590000   30.940001   32.610001   31.000000  101786600   \n",
       "2012-05-23   32.500000   31.360001   31.370001   32.000000   73600000   \n",
       "2012-05-24   33.209999   31.770000   32.950001   33.029999   50237200   \n",
       "...                ...         ...         ...         ...        ...   \n",
       "2019-12-24  206.789993  205.000000  206.300003  205.119995    6046300   \n",
       "2019-12-26  207.820007  205.309998  205.570007  207.789993    9350700   \n",
       "2019-12-27  208.929993  206.589996  208.669998  208.100006   10284200   \n",
       "2019-12-30  207.899994  203.899994  207.860001  204.410004   10524300   \n",
       "2019-12-31  205.559998  203.600006  204.000000  205.250000    8953500   \n",
       "\n",
       "             Adj Close  \n",
       "Date                    \n",
       "2012-05-18   38.230000  \n",
       "2012-05-21   34.029999  \n",
       "2012-05-22   31.000000  \n",
       "2012-05-23   32.000000  \n",
       "2012-05-24   33.029999  \n",
       "...                ...  \n",
       "2019-12-24  205.119995  \n",
       "2019-12-26  207.789993  \n",
       "2019-12-27  208.100006  \n",
       "2019-12-30  204.410004  \n",
       "2019-12-31  205.250000  \n",
       "\n",
       "[1917 rows x 6 columns]"
      ]
     },
     "execution_count": 43,
     "metadata": {},
     "output_type": "execute_result"
    }
   ],
   "source": [
    "data"
   ]
  },
  {
   "cell_type": "code",
   "execution_count": 46,
   "metadata": {},
   "outputs": [],
   "source": [
    "#Prepare Data\n",
    "scaler = MinMaxScaler(feature_range=(0,1))\n",
    "scaled_data = scaler.fit_transform(data['Close'].values.reshape(-1,1))\n",
    "prediction_days = 60"
   ]
  },
  {
   "cell_type": "code",
   "execution_count": 49,
   "metadata": {},
   "outputs": [],
   "source": [
    "x_train = []\n",
    "y_train = []"
   ]
  },
  {
   "cell_type": "code",
   "execution_count": 50,
   "metadata": {},
   "outputs": [],
   "source": [
    "for x in range(prediction_days, len(scaled_data)):\n",
    "    x_train.append(scaled_data[x-prediction_days:x , 0])\n",
    "    y_train.append(scaled_data[x,0])"
   ]
  },
  {
   "cell_type": "code",
   "execution_count": 51,
   "metadata": {},
   "outputs": [],
   "source": [
    "x_train, y_train = np.array(x_train), np.array(y_train)\n",
    "\n",
    "x_train = np.reshape(x_train, (x_train.shape[0], x_train.shape[1],1))"
   ]
  },
  {
   "cell_type": "code",
   "execution_count": 52,
   "metadata": {},
   "outputs": [],
   "source": [
    "#Build the Model\n",
    "model = Sequential()\n",
    "\n",
    "model.add(LSTM(units=50,return_sequences = True,input_shape =( x_train.shape[1],1)))\n",
    "model.add(Dropout(0.2))\n",
    "model.add(LSTM(units=50,return_sequences = True))\n",
    "model.add(Dropout(0.2))\n",
    "model.add(LSTM(units=50))\n",
    "model.add(Dropout(0.2))\n",
    "model.add(Dense(units= 1)) #Prediction of the next closing price\n",
    "\n",
    "model.compile(optimizer = 'adam' , loss='mean_squared_error')"
   ]
  },
  {
   "cell_type": "code",
   "execution_count": 53,
   "metadata": {},
   "outputs": [
    {
     "name": "stdout",
     "output_type": "stream",
     "text": [
      "Model: \"sequential_2\"\n",
      "_________________________________________________________________\n",
      " Layer (type)                Output Shape              Param #   \n",
      "=================================================================\n",
      " lstm_6 (LSTM)               (None, 60, 50)            10400     \n",
      "                                                                 \n",
      " dropout_6 (Dropout)         (None, 60, 50)            0         \n",
      "                                                                 \n",
      " lstm_7 (LSTM)               (None, 60, 50)            20200     \n",
      "                                                                 \n",
      " dropout_7 (Dropout)         (None, 60, 50)            0         \n",
      "                                                                 \n",
      " lstm_8 (LSTM)               (None, 50)                20200     \n",
      "                                                                 \n",
      " dropout_8 (Dropout)         (None, 50)                0         \n",
      "                                                                 \n",
      " dense_2 (Dense)             (None, 1)                 51        \n",
      "                                                                 \n",
      "=================================================================\n",
      "Total params: 50,851\n",
      "Trainable params: 50,851\n",
      "Non-trainable params: 0\n",
      "_________________________________________________________________\n"
     ]
    }
   ],
   "source": [
    "model.summary()"
   ]
  },
  {
   "cell_type": "code",
   "execution_count": 37,
   "metadata": {},
   "outputs": [
    {
     "name": "stdout",
     "output_type": "stream",
     "text": [
      "Epoch 1/25\n",
      "59/59 [==============================] - 8s 50ms/step - loss: 0.0199\n",
      "Epoch 2/25\n",
      "59/59 [==============================] - 3s 55ms/step - loss: 0.0041\n",
      "Epoch 3/25\n",
      "59/59 [==============================] - 3s 58ms/step - loss: 0.0035\n",
      "Epoch 4/25\n",
      "59/59 [==============================] - 3s 50ms/step - loss: 0.0038\n",
      "Epoch 5/25\n",
      "59/59 [==============================] - 3s 50ms/step - loss: 0.0037\n",
      "Epoch 6/25\n",
      "59/59 [==============================] - 3s 54ms/step - loss: 0.0028\n",
      "Epoch 7/25\n",
      "59/59 [==============================] - 3s 53ms/step - loss: 0.0034: 0s - l\n",
      "Epoch 8/25\n",
      "59/59 [==============================] - 4s 65ms/step - loss: 0.0034\n",
      "Epoch 9/25\n",
      "59/59 [==============================] - 3s 59ms/step - loss: 0.0028\n",
      "Epoch 10/25\n",
      "59/59 [==============================] - 4s 62ms/step - loss: 0.0027\n",
      "Epoch 11/25\n",
      "59/59 [==============================] - 3s 58ms/step - loss: 0.0028\n",
      "Epoch 12/25\n",
      "59/59 [==============================] - 4s 70ms/step - loss: 0.0028\n",
      "Epoch 13/25\n",
      "59/59 [==============================] - 3s 56ms/step - loss: 0.0024\n",
      "Epoch 14/25\n",
      "59/59 [==============================] - 3s 55ms/step - loss: 0.0026\n",
      "Epoch 15/25\n",
      "59/59 [==============================] - 3s 59ms/step - loss: 0.0032\n",
      "Epoch 16/25\n",
      "59/59 [==============================] - 4s 59ms/step - loss: 0.0026\n",
      "Epoch 17/25\n",
      "59/59 [==============================] - 3s 59ms/step - loss: 0.0023: 0s - \n",
      "Epoch 18/25\n",
      "59/59 [==============================] - 4s 65ms/step - loss: 0.0026\n",
      "Epoch 19/25\n",
      "59/59 [==============================] - 4s 74ms/step - loss: 0.0027\n",
      "Epoch 20/25\n",
      "59/59 [==============================] - 4s 74ms/step - loss: 0.0022\n",
      "Epoch 21/25\n",
      "59/59 [==============================] - 4s 71ms/step - loss: 0.0020\n",
      "Epoch 22/25\n",
      "59/59 [==============================] - 4s 69ms/step - loss: 0.0021\n",
      "Epoch 23/25\n",
      "59/59 [==============================] - 3s 56ms/step - loss: 0.0023\n",
      "Epoch 24/25\n",
      "59/59 [==============================] - 4s 68ms/step - loss: 0.0023\n",
      "Epoch 25/25\n",
      "59/59 [==============================] - 5s 77ms/step - loss: 0.0017\n"
     ]
    },
    {
     "data": {
      "text/plain": [
       "<keras.callbacks.History at 0x25fd9da6e20>"
      ]
     },
     "execution_count": 37,
     "metadata": {},
     "output_type": "execute_result"
    }
   ],
   "source": [
    "\n",
    "model.fit(x_train, y_train, epochs=25, batch_size=32)"
   ]
  },
  {
   "cell_type": "code",
   "execution_count": 38,
   "metadata": {},
   "outputs": [],
   "source": [
    "#Test the model accuracy on existing data\n",
    "#load test data\n",
    "\n",
    "test_start = dt.datetime(2020,1,1)\n",
    "test_end = dt.datetime.now()\n",
    "\n",
    "test_data = web.DataReader(company, 'yahoo', test_start, test_end)\n",
    "actual_prices = test_data['Close'].values\n",
    "\n",
    "total_dataset = pd.concat((data['Close'], test_data['Close']))"
   ]
  },
  {
   "cell_type": "code",
   "execution_count": 39,
   "metadata": {},
   "outputs": [],
   "source": [
    "model_inputs = total_dataset[len(total_dataset) - len(test_data) - prediction_days:].values\n",
    "model_inputs = model_inputs.reshape(-1,1)\n",
    "model_inputs = scaler.transform(model_inputs)"
   ]
  },
  {
   "cell_type": "code",
   "execution_count": 40,
   "metadata": {},
   "outputs": [],
   "source": [
    "#make predictions on test data\n",
    "x_test = []\n",
    "\n",
    "for x in range(prediction_days , len(model_inputs)):\n",
    "    x_test.append(model_inputs[x - prediction_days: x , 0])\n",
    "\n",
    "x_test = np.array(x_test)\n",
    "x_test = np.reshape(x_test, (x_test.shape[0], x_test.shape[1],1))\n"
   ]
  },
  {
   "cell_type": "code",
   "execution_count": 41,
   "metadata": {},
   "outputs": [],
   "source": [
    "predicted_prices = model.predict(x_test)\n",
    "predicted_prices = scaler.inverse_transform(predicted_prices)"
   ]
  },
  {
   "cell_type": "code",
   "execution_count": 42,
   "metadata": {},
   "outputs": [
    {
     "data": {
      "image/png": "[encoded data removed]",
      "text/plain": [
       "<Figure size 432x288 with 1 Axes>"
      ]
     },
     "metadata": {
      "needs_background": "light"
     },
     "output_type": "display_data"
    }
   ],
   "source": [
    "#Plot the test predictions\n",
    "\n",
    "plt.plot(actual_prices , color = 'black' , label=f\"Actual {company} price\")\n",
    "plt.plot(predicted_prices , color = 'green', label = f\"Predicted {company} prices\")\n",
    "plt.title(f\"{company} Share Price\")\n",
    "plt.xlabel('Time')\n",
    "plt.ylabel(f'{company} Share Price')\n",
    "plt.legend()\n",
    "plt.show()"
   ]
  }
 ],
 "metadata": {
  "interpreter": {
   "hash": "847eb00be134a70790d40903388927ff584ec0e621cd5e12b3f023f70308bb0d"
  },
  "kernelspec": {
   "display_name": "Python 3.9.9 64-bit (windows store)",
   "language": "python",
   "name": "python3"
  },
  "language_info": {
   "codemirror_mode": {
    "name": "ipython",
    "version": 3
   },
   "file_extension": ".py",
   "mimetype": "text/x-python",
   "name": "python",
   "nbconvert_exporter": "python",
   "pygments_lexer": "ipython3",
   "version": "3.9.9"
  },
  "orig_nbformat": 4
 },
 "nbformat": 4,
 "nbformat_minor": 2
}
